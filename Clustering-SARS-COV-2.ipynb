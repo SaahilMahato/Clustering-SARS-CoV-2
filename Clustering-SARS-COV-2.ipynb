{
 "cells": [
  {
   "cell_type": "code",
   "execution_count": 1,
   "id": "cc7e6f7d",
   "metadata": {},
   "outputs": [],
   "source": [
    "from Bio import SeqIO"
   ]
  },
  {
   "cell_type": "code",
   "execution_count": 2,
   "id": "42e772da",
   "metadata": {},
   "outputs": [],
   "source": [
    "# load dna sequence into a list\n",
    "nucleotide = SeqIO.parse('SouthAsia.fasta','fasta')\n",
    "nucleotide_data = []\n",
    "for sequence in nucleotide:\n",
    "    nucleotide_data.append(str(sequence.seq))"
   ]
  },
  {
   "cell_type": "code",
   "execution_count": 3,
   "id": "dd641327",
   "metadata": {},
   "outputs": [
    {
     "name": "stdout",
     "output_type": "stream",
     "text": [
      "29903\n"
     ]
    }
   ],
   "source": [
    "# find max length of the sequence\n",
    "max_len = 0\n",
    "for data in nucleotide_data:\n",
    "    if len(data) > max_len:\n",
    "        max_len = len(data)\n",
    "print(max_len)"
   ]
  },
  {
   "cell_type": "code",
   "execution_count": 4,
   "id": "3868cab2",
   "metadata": {},
   "outputs": [],
   "source": [
    "# extend the string to same length (max_len)\n",
    "for i in range(0, len(nucleotide_data)):\n",
    "    nucleotide_data[i] = nucleotide_data[i].ljust(max_len, 'N')"
   ]
  },
  {
   "cell_type": "code",
   "execution_count": 5,
   "id": "78dd9997",
   "metadata": {},
   "outputs": [],
   "source": [
    "# split string to string\n",
    "for i in range(0, len(nucleotide_data)):\n",
    "    nucleotide_data[i] = [char for char in nucleotide_data[i]]"
   ]
  },
  {
   "cell_type": "code",
   "execution_count": 38,
   "id": "0902f145",
   "metadata": {},
   "outputs": [],
   "source": [
    "#import for ML\n",
    "\n",
    "import numpy as np\n",
    "import pandas as pd\n",
    "import matplotlib.pyplot as plt\n",
    "\n",
    "import tensorflow as tf\n",
    "from keras.models import Sequential, Model\n",
    "from keras.layers import Activation, Dense, Input\n",
    "from keras import optimizers\n",
    "\n",
    "from sklearn.preprocessing import MinMaxScaler"
   ]
  },
  {
   "cell_type": "code",
   "execution_count": 39,
   "id": "65d6b7a1",
   "metadata": {},
   "outputs": [],
   "source": [
    "#encoding data with numbers\n",
    "\n",
    "nucleic_acid_encoding = {\n",
    "    'A': 0,\n",
    "    'G': 1,\n",
    "    'C': 2,\n",
    "    'T': 3,\n",
    "    'Y': 4,\n",
    "    'M': 5,\n",
    "    'S': 6,\n",
    "    'K': 7,\n",
    "    'R': 8,\n",
    "    'W': 9,\n",
    "    'N': 10\n",
    "}\n",
    "\n",
    "encoded_nucleotide = []\n",
    "for i in range(0, len(nucleotide_data)):\n",
    "    encoded_nucleotide.append([])\n",
    "    for j in range(0, max_len):\n",
    "        encoded_nucleotide[i].append(nucleic_acid_encoding[nucleotide_data[i][j]])\n",
    "\n",
    "encoded_nucleotide = np.array(encoded_nucleotide)\n",
    "scaler = MinMaxScaler()\n",
    "encoded_nucleotide = scaler.fit_transform(encoded_nucleotide)"
   ]
  },
  {
   "cell_type": "code",
   "execution_count": 54,
   "id": "f34b342e",
   "metadata": {},
   "outputs": [
    {
     "name": "stdout",
     "output_type": "stream",
     "text": [
      "Epoch 1/100\n",
      "26/26 [==============================] - 3s 75ms/step - loss: 0.0592 - val_loss: 0.0537\n",
      "Epoch 2/100\n",
      "26/26 [==============================] - 2s 68ms/step - loss: 0.0203 - val_loss: 0.0528\n",
      "Epoch 3/100\n",
      "26/26 [==============================] - 2s 68ms/step - loss: 0.0057 - val_loss: 0.0528\n",
      "Epoch 4/100\n",
      "26/26 [==============================] - 2s 69ms/step - loss: 0.0068 - val_loss: 0.0476\n",
      "Epoch 5/100\n",
      "26/26 [==============================] - 2s 69ms/step - loss: 0.0051 - val_loss: 0.0496\n",
      "Epoch 6/100\n",
      "26/26 [==============================] - 2s 67ms/step - loss: 0.0054 - val_loss: 0.0492\n",
      "Epoch 7/100\n",
      "26/26 [==============================] - 2s 68ms/step - loss: 0.0049 - val_loss: 0.0467\n",
      "Epoch 8/100\n",
      "26/26 [==============================] - 2s 69ms/step - loss: 0.0049 - val_loss: 0.0442\n",
      "Epoch 9/100\n",
      "26/26 [==============================] - 2s 68ms/step - loss: 0.0045 - val_loss: 0.0446\n",
      "Epoch 10/100\n",
      "26/26 [==============================] - 2s 67ms/step - loss: 0.0052 - val_loss: 0.0442\n",
      "Epoch 11/100\n",
      "26/26 [==============================] - 2s 67ms/step - loss: 0.0045 - val_loss: 0.0432\n",
      "Epoch 12/100\n",
      "26/26 [==============================] - 2s 68ms/step - loss: 0.0051 - val_loss: 0.0442\n",
      "Epoch 13/100\n",
      "26/26 [==============================] - 2s 67ms/step - loss: 0.0043 - val_loss: 0.0463\n",
      "Epoch 14/100\n",
      "26/26 [==============================] - 2s 68ms/step - loss: 0.0040 - val_loss: 0.0448\n",
      "Epoch 15/100\n",
      "26/26 [==============================] - 2s 68ms/step - loss: 0.0045 - val_loss: 0.0438\n",
      "Epoch 16/100\n",
      "26/26 [==============================] - 2s 68ms/step - loss: 0.0043 - val_loss: 0.0434\n",
      "Epoch 17/100\n",
      "26/26 [==============================] - 2s 67ms/step - loss: 0.0034 - val_loss: 0.0439\n",
      "Epoch 18/100\n",
      "26/26 [==============================] - 2s 67ms/step - loss: 0.0037 - val_loss: 0.0445\n",
      "Epoch 19/100\n",
      "26/26 [==============================] - 2s 67ms/step - loss: 0.0044 - val_loss: 0.0454\n",
      "Epoch 20/100\n",
      "26/26 [==============================] - 2s 68ms/step - loss: 0.0043 - val_loss: 0.0459\n",
      "Epoch 21/100\n",
      "26/26 [==============================] - 2s 68ms/step - loss: 0.0049 - val_loss: 0.0460\n",
      "Epoch 22/100\n",
      "26/26 [==============================] - 2s 68ms/step - loss: 0.0039 - val_loss: 0.0468\n",
      "Epoch 23/100\n",
      "26/26 [==============================] - 2s 66ms/step - loss: 0.0057 - val_loss: 0.0478\n",
      "Epoch 24/100\n",
      "26/26 [==============================] - 2s 68ms/step - loss: 0.0042 - val_loss: 0.0473\n",
      "Epoch 25/100\n",
      "26/26 [==============================] - 2s 69ms/step - loss: 0.0047 - val_loss: 0.0487\n",
      "Epoch 26/100\n",
      "26/26 [==============================] - 2s 67ms/step - loss: 0.0040 - val_loss: 0.0465\n",
      "Epoch 27/100\n",
      "26/26 [==============================] - 2s 67ms/step - loss: 0.0040 - val_loss: 0.0451\n",
      "Epoch 28/100\n",
      "26/26 [==============================] - 2s 68ms/step - loss: 0.0035 - val_loss: 0.0445\n",
      "Epoch 29/100\n",
      "26/26 [==============================] - 2s 68ms/step - loss: 0.0041 - val_loss: 0.0433\n",
      "Epoch 30/100\n",
      "26/26 [==============================] - 2s 68ms/step - loss: 0.0045 - val_loss: 0.0429\n",
      "Epoch 31/100\n",
      "26/26 [==============================] - 2s 72ms/step - loss: 0.0047 - val_loss: 0.0425\n",
      "Epoch 32/100\n",
      "26/26 [==============================] - 2s 66ms/step - loss: 0.0038 - val_loss: 0.0419\n",
      "Epoch 33/100\n",
      "26/26 [==============================] - 2s 66ms/step - loss: 0.0030 - val_loss: 0.0408\n",
      "Epoch 34/100\n",
      "26/26 [==============================] - 2s 67ms/step - loss: 0.0040 - val_loss: 0.0430\n",
      "Epoch 35/100\n",
      "26/26 [==============================] - 2s 68ms/step - loss: 0.0034 - val_loss: 0.0413\n",
      "Epoch 36/100\n",
      "26/26 [==============================] - 2s 68ms/step - loss: 0.0035 - val_loss: 0.0400\n",
      "Epoch 37/100\n",
      "26/26 [==============================] - 2s 68ms/step - loss: 0.0036 - val_loss: 0.0385\n",
      "Epoch 38/100\n",
      "26/26 [==============================] - 2s 70ms/step - loss: 0.0038 - val_loss: 0.0372\n",
      "Epoch 39/100\n",
      "26/26 [==============================] - 2s 72ms/step - loss: 0.0037 - val_loss: 0.0381\n",
      "Epoch 40/100\n",
      "26/26 [==============================] - 2s 66ms/step - loss: 0.0038 - val_loss: 0.0337\n",
      "Epoch 41/100\n",
      "26/26 [==============================] - 2s 72ms/step - loss: 0.0044 - val_loss: 0.0312\n",
      "Epoch 42/100\n",
      "26/26 [==============================] - 2s 80ms/step - loss: 0.0037 - val_loss: 0.0294\n",
      "Epoch 43/100\n",
      "26/26 [==============================] - 2s 74ms/step - loss: 0.0035 - val_loss: 0.0375\n",
      "Epoch 44/100\n",
      "26/26 [==============================] - 2s 76ms/step - loss: 0.0037 - val_loss: 0.0338\n",
      "Epoch 45/100\n",
      "26/26 [==============================] - 2s 74ms/step - loss: 0.0034 - val_loss: 0.0289\n",
      "Epoch 46/100\n",
      "26/26 [==============================] - 2s 75ms/step - loss: 0.0038 - val_loss: 0.0273\n",
      "Epoch 47/100\n",
      "26/26 [==============================] - 2s 76ms/step - loss: 0.0037 - val_loss: 0.0273\n",
      "Epoch 48/100\n",
      "26/26 [==============================] - 2s 74ms/step - loss: 0.0036 - val_loss: 0.0245\n",
      "Epoch 49/100\n",
      "26/26 [==============================] - 2s 74ms/step - loss: 0.0031 - val_loss: 0.0218\n",
      "Epoch 50/100\n",
      "26/26 [==============================] - 2s 76ms/step - loss: 0.0035 - val_loss: 0.0201\n",
      "Epoch 51/100\n",
      "26/26 [==============================] - 2s 74ms/step - loss: 0.0041 - val_loss: 0.0207\n",
      "Epoch 52/100\n",
      "26/26 [==============================] - 2s 75ms/step - loss: 0.0041 - val_loss: 0.0196\n",
      "Epoch 53/100\n",
      "26/26 [==============================] - 2s 73ms/step - loss: 0.0037 - val_loss: 0.0193\n",
      "Epoch 54/100\n",
      "26/26 [==============================] - 2s 68ms/step - loss: 0.0044 - val_loss: 0.0184\n",
      "Epoch 55/100\n",
      "26/26 [==============================] - 2s 65ms/step - loss: 0.0029 - val_loss: 0.0180\n",
      "Epoch 56/100\n",
      "26/26 [==============================] - 2s 67ms/step - loss: 0.0030 - val_loss: 0.0180\n",
      "Epoch 57/100\n",
      "26/26 [==============================] - 2s 69ms/step - loss: 0.0040 - val_loss: 0.0179\n",
      "Epoch 58/100\n",
      "26/26 [==============================] - 2s 71ms/step - loss: 0.0042 - val_loss: 0.0180\n",
      "Epoch 59/100\n",
      "26/26 [==============================] - 2s 76ms/step - loss: 0.0036 - val_loss: 0.0177\n",
      "Epoch 60/100\n",
      "26/26 [==============================] - 2s 73ms/step - loss: 0.0036 - val_loss: 0.0182\n",
      "Epoch 61/100\n",
      "26/26 [==============================] - 2s 80ms/step - loss: 0.0025 - val_loss: 0.0176\n",
      "Epoch 62/100\n",
      "26/26 [==============================] - 2s 71ms/step - loss: 0.0035 - val_loss: 0.0173\n",
      "Epoch 63/100\n",
      "26/26 [==============================] - 2s 70ms/step - loss: 0.0030 - val_loss: 0.0177\n",
      "Epoch 64/100\n",
      "26/26 [==============================] - 2s 77ms/step - loss: 0.0032 - val_loss: 0.0413\n",
      "Epoch 65/100\n",
      "26/26 [==============================] - 2s 71ms/step - loss: 0.0036 - val_loss: 0.0189\n",
      "Epoch 66/100\n",
      "26/26 [==============================] - 2s 75ms/step - loss: 0.0034 - val_loss: 0.0177\n",
      "Epoch 67/100\n",
      "26/26 [==============================] - 2s 79ms/step - loss: 0.0033 - val_loss: 0.0173\n",
      "Epoch 68/100\n",
      "26/26 [==============================] - 2s 75ms/step - loss: 0.0028 - val_loss: 0.0174\n",
      "Epoch 69/100\n",
      "26/26 [==============================] - 2s 71ms/step - loss: 0.0034 - val_loss: 0.0171\n",
      "Epoch 70/100\n",
      "26/26 [==============================] - 2s 71ms/step - loss: 0.0039 - val_loss: 0.0169\n",
      "Epoch 71/100\n",
      "26/26 [==============================] - 2s 72ms/step - loss: 0.0032 - val_loss: 0.0170\n",
      "Epoch 72/100\n",
      "26/26 [==============================] - 2s 73ms/step - loss: 0.0038 - val_loss: 0.0167\n",
      "Epoch 73/100\n",
      "26/26 [==============================] - 2s 70ms/step - loss: 0.0032 - val_loss: 0.0170\n",
      "Epoch 74/100\n",
      "26/26 [==============================] - 2s 70ms/step - loss: 0.0039 - val_loss: 0.0171\n",
      "Epoch 75/100\n",
      "26/26 [==============================] - 2s 71ms/step - loss: 0.0035 - val_loss: 0.0173\n",
      "Epoch 76/100\n",
      "26/26 [==============================] - 2s 71ms/step - loss: 0.0027 - val_loss: 0.0173\n",
      "Epoch 77/100\n",
      "26/26 [==============================] - 2s 73ms/step - loss: 0.0034 - val_loss: 0.0170\n",
      "Epoch 78/100\n",
      "26/26 [==============================] - 2s 71ms/step - loss: 0.0033 - val_loss: 0.0168\n",
      "Epoch 79/100\n",
      "26/26 [==============================] - 2s 69ms/step - loss: 0.0041 - val_loss: 0.0590\n",
      "Epoch 80/100\n",
      "26/26 [==============================] - 2s 70ms/step - loss: 0.0043 - val_loss: 0.0205\n",
      "Epoch 81/100\n",
      "26/26 [==============================] - 2s 70ms/step - loss: 0.0031 - val_loss: 0.0172\n",
      "Epoch 82/100\n"
     ]
    },
    {
     "name": "stdout",
     "output_type": "stream",
     "text": [
      "26/26 [==============================] - 2s 73ms/step - loss: 0.0033 - val_loss: 0.0166\n",
      "Epoch 83/100\n",
      "26/26 [==============================] - 2s 71ms/step - loss: 0.0030 - val_loss: 0.0169\n",
      "Epoch 84/100\n",
      "26/26 [==============================] - 2s 73ms/step - loss: 0.0033 - val_loss: 0.0166\n",
      "Epoch 85/100\n",
      "26/26 [==============================] - 2s 72ms/step - loss: 0.0033 - val_loss: 0.0161\n",
      "Epoch 86/100\n",
      "26/26 [==============================] - 2s 72ms/step - loss: 0.0031 - val_loss: 0.0164\n",
      "Epoch 87/100\n",
      "26/26 [==============================] - 2s 73ms/step - loss: 0.0034 - val_loss: 0.0171\n",
      "Epoch 88/100\n",
      "26/26 [==============================] - 2s 71ms/step - loss: 0.0036 - val_loss: 0.0160\n",
      "Epoch 89/100\n",
      "26/26 [==============================] - 2s 72ms/step - loss: 0.0029 - val_loss: 0.0160\n",
      "Epoch 90/100\n",
      "26/26 [==============================] - 2s 72ms/step - loss: 0.0024 - val_loss: 0.0162\n",
      "Epoch 91/100\n",
      "26/26 [==============================] - 2s 69ms/step - loss: 0.0027 - val_loss: 0.0168\n",
      "Epoch 92/100\n",
      "26/26 [==============================] - 2s 70ms/step - loss: 0.0031 - val_loss: 0.0165\n",
      "Epoch 93/100\n",
      "26/26 [==============================] - 2s 70ms/step - loss: 0.0028 - val_loss: 0.0154\n",
      "Epoch 94/100\n",
      "26/26 [==============================] - 2s 70ms/step - loss: 0.0034 - val_loss: 0.0163\n",
      "Epoch 95/100\n",
      "26/26 [==============================] - 2s 69ms/step - loss: 0.0026 - val_loss: 0.0160\n",
      "Epoch 96/100\n",
      "26/26 [==============================] - 2s 70ms/step - loss: 0.0036 - val_loss: 0.0189\n",
      "Epoch 97/100\n",
      "26/26 [==============================] - 2s 70ms/step - loss: 0.0025 - val_loss: 0.0162\n",
      "Epoch 98/100\n",
      "26/26 [==============================] - 2s 69ms/step - loss: 0.0029 - val_loss: 0.0147\n",
      "Epoch 99/100\n",
      "26/26 [==============================] - 2s 74ms/step - loss: 0.0027 - val_loss: 0.0159\n",
      "Epoch 100/100\n",
      "26/26 [==============================] - 2s 69ms/step - loss: 0.0023 - val_loss: 0.0163\n"
     ]
    }
   ],
   "source": [
    "# building autoencoder\n",
    "\n",
    "encoding_dim1 = 256\n",
    "encoding_dim2 = 128\n",
    "encoding_dim3 = 16\n",
    "bottleneck_dim = 3\n",
    "decoding_dim3 = 16\n",
    "decoding_dim2 = 128\n",
    "decoding_dim1 = 256\n",
    "\n",
    "input_data = Input(shape=encoded_nucleotide.shape[1])\n",
    "encoded1 = Dense(encoding_dim1, activation='relu')(input_data)\n",
    "encoded2 = Dense(encoding_dim2, activation='relu')(encoded1)\n",
    "encoded3 = Dense(encoding_dim3, activation='relu')(encoded2)\n",
    "bottleneck = Dense(bottleneck_dim, activation='relu', name='bottleneck_layer')(encoded3)\n",
    "decoded3 = Dense(decoding_dim3, activation='relu')(bottleneck)\n",
    "decoded2 = Dense(decoding_dim2, activation='relu')(decoded3)\n",
    "decoded1 = Dense(decoding_dim1, activation='relu')(decoded2)\n",
    "decoded_data = Dense(encoded_nucleotide.shape[1], activation='sigmoid')(decoded1)\n",
    "\n",
    "autoencoder = Model(input_data, decoded_data)\n",
    "autoencoder.compile(optimizer='adam', loss=tf.keras.losses.MeanSquaredLogarithmicError())\n",
    "\n",
    "hist_auto = autoencoder.fit(encoded_nucleotide, encoded_nucleotide, epochs=100,\n",
    "                           batch_size=32, shuffle=True, validation_split=0.1)"
   ]
  },
  {
   "cell_type": "code",
   "execution_count": 55,
   "id": "fa865339",
   "metadata": {},
   "outputs": [
    {
     "data": {
      "image/png": "[encoded data removed]",
      "text/plain": [
       "<Figure size 432x288 with 1 Axes>"
      ]
     },
     "metadata": {
      "needs_background": "light"
     },
     "output_type": "display_data"
    }
   ],
   "source": [
    "# plot training history\n",
    "\n",
    "plt.figure()\n",
    "plt.plot(hist_auto.history['loss'])\n",
    "plt.plot(hist_auto.history['val_loss'])\n",
    "plt.title('Autoencoder model loss')\n",
    "plt.ylabel('loss')\n",
    "plt.xlabel('epoch')\n",
    "plt.legend(['train', 'val'], loc='upper right')\n",
    "plt.show()"
   ]
  },
  {
   "cell_type": "code",
   "execution_count": 56,
   "id": "18e2366e",
   "metadata": {},
   "outputs": [
    {
     "name": "stdout",
     "output_type": "stream",
     "text": [
      "Model: \"model_37\"\n",
      "_________________________________________________________________\n",
      "Layer (type)                 Output Shape              Param #   \n",
      "=================================================================\n",
      "input_40 (InputLayer)        [(None, 29903)]           0         \n",
      "_________________________________________________________________\n",
      "dense_278 (Dense)            (None, 256)               7655424   \n",
      "_________________________________________________________________\n",
      "dense_279 (Dense)            (None, 128)               32896     \n",
      "_________________________________________________________________\n",
      "dense_280 (Dense)            (None, 16)                2064      \n",
      "_________________________________________________________________\n",
      "bottleneck_layer (Dense)     (None, 3)                 51        \n",
      "_________________________________________________________________\n",
      "dense_281 (Dense)            (None, 16)                64        \n",
      "_________________________________________________________________\n",
      "dense_282 (Dense)            (None, 128)               2176      \n",
      "_________________________________________________________________\n",
      "dense_283 (Dense)            (None, 256)               33024     \n",
      "_________________________________________________________________\n",
      "dense_284 (Dense)            (None, 29903)             7685071   \n",
      "=================================================================\n",
      "Total params: 15,410,770\n",
      "Trainable params: 15,410,770\n",
      "Non-trainable params: 0\n",
      "_________________________________________________________________\n"
     ]
    }
   ],
   "source": [
    "autoencoder.summary() # autoencoder architecture"
   ]
  },
  {
   "cell_type": "code",
   "execution_count": 57,
   "id": "acee5965",
   "metadata": {},
   "outputs": [],
   "source": [
    "# build another model that outputs 3 dimensional data\n",
    "\n",
    "encoded_layer = Model(inputs=autoencoder.input,\n",
    "               outputs=autoencoder.get_layer('bottleneck_layer').output)"
   ]
  },
  {
   "cell_type": "code",
   "execution_count": 58,
   "id": "ecf849e7",
   "metadata": {},
   "outputs": [],
   "source": [
    "# crearte new dataset with 3 dimensional data\n",
    "\n",
    "encoded_data = []\n",
    "for sequence in encoded_nucleotide:\n",
    "    encoded_data.append(encoded_layer.predict(np.array([sequence,]))[0])\n"
   ]
  },
  {
   "cell_type": "code",
   "execution_count": 59,
   "id": "eb80c184",
   "metadata": {},
   "outputs": [],
   "source": [
    "# import for clustering\n",
    "\n",
    "from sklearn.cluster import KMeans\n",
    "from mpl_toolkits.mplot3d import Axes3D"
   ]
  },
  {
   "cell_type": "code",
   "execution_count": 65,
   "id": "44a9ca95",
   "metadata": {},
   "outputs": [],
   "source": [
    "# determine the optimal number of clusters using elbow method\n",
    "\n",
    "inertia = []\n",
    "K = range(1,11)\n",
    "for k in K:\n",
    "    km = KMeans(init='k-means++', n_clusters=k, n_init=10)\n",
    "    km.fit(encoded_data)\n",
    "    inertia.append(km.inertia_)\n",
    "\n",
    "plt.plot(K, inertia, 'bx-')\n",
    "plt.xlabel('Number of Clusters K')\n",
    "plt.ylabel('Inertia')\n",
    "plt.title('Elbow Method For Optimal K')\n",
    "plt.show()"
   ]
  },
  {
   "cell_type": "code",
   "execution_count": 66,
   "id": "f0187988",
   "metadata": {},
   "outputs": [],
   "source": [
    "# create a dataset for visualizing clusters\n",
    "\n",
    "kmeans = KMeans(init='k-means++', n_clusters=4, n_init=10)\n",
    "kmeans.fit(encoded_data)\n",
    "P = kmeans.predict(encoded_data)"
   ]
  },
  {
   "cell_type": "code",
   "execution_count": 67,
   "id": "1ebbd790",
   "metadata": {},
   "outputs": [
    {
     "name": "stdout",
     "output_type": "stream",
     "text": [
      "Using matplotlib backend: Qt5Agg\n"
     ]
    }
   ],
   "source": [
    "# plot 3D graph of clusters\n",
    "\n",
    "%matplotlib\n",
    "encoded_fig = plt.figure()\n",
    "ax = Axes3D(encoded_fig)\n",
    "p = ax.scatter([row[0] for row in encoded_data], \n",
    "               [row[1] for row in encoded_data], \n",
    "               [row[2] for row in encoded_data], \n",
    "               c=P, marker=\"o\", picker=True, cmap=\"rainbow\")\n",
    "plt.colorbar(p, shrink=0.5)\n",
    "\n",
    "for angle in range(0, 360):\n",
    "    ax.view_init(30, angle)\n",
    "    plt.draw()\n",
    "    plt.pause(.001)"
   ]
  },
  {
   "cell_type": "code",
   "execution_count": null,
   "id": "9bb9719a",
   "metadata": {},
   "outputs": [],
   "source": []
  },
  {
   "cell_type": "code",
   "execution_count": null,
   "id": "e244746f",
   "metadata": {},
   "outputs": [],
   "source": []
  }
 ],
 "metadata": {
  "kernelspec": {
   "display_name": "Python 3",
   "language": "python",
   "name": "python3"
  },
  "language_info": {
   "codemirror_mode": {
    "name": "ipython",
    "version": 3
   },
   "file_extension": ".py",
   "mimetype": "text/x-python",
   "name": "python",
   "nbconvert_exporter": "python",
   "pygments_lexer": "ipython3",
   "version": "3.8.8"
  }
 },
 "nbformat": 4,
 "nbformat_minor": 5
}
