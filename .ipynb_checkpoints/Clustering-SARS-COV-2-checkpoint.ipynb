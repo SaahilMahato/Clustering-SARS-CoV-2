{
 "cells": [
  {
   "cell_type": "code",
   "execution_count": 1,
   "id": "cc7e6f7d",
   "metadata": {},
   "outputs": [],
   "source": [
    "from Bio import SeqIO"
   ]
  },
  {
   "cell_type": "code",
   "execution_count": 2,
   "id": "42e772da",
   "metadata": {},
   "outputs": [],
   "source": [
    "# load dna sequence into a list\n",
    "nucleotide = SeqIO.parse('sequences.fasta','fasta')\n",
    "nucleotide_data = []\n",
    "for sequence in nucleotide:\n",
    "    nucleotide_data.append(str(sequence.seq))"
   ]
  },
  {
   "cell_type": "code",
   "execution_count": 3,
   "id": "dd641327",
   "metadata": {},
   "outputs": [
    {
     "name": "stdout",
     "output_type": "stream",
     "text": [
      "29903\n"
     ]
    }
   ],
   "source": [
    "# find max length of the sequence\n",
    "max_len = 0\n",
    "for data in nucleotide_data:\n",
    "    if len(data) > max_len:\n",
    "        max_len = len(data)\n",
    "print(max_len)"
   ]
  },
  {
   "cell_type": "code",
   "execution_count": 4,
   "id": "3868cab2",
   "metadata": {},
   "outputs": [],
   "source": [
    "# extend the string to same length (max_len)\n",
    "for i in range(0, len(nucleotide_data)):\n",
    "    nucleotide_data[i] = nucleotide_data[i].ljust(max_len, 'N')"
   ]
  },
  {
   "cell_type": "code",
   "execution_count": 5,
   "id": "78dd9997",
   "metadata": {},
   "outputs": [],
   "source": [
    "# split string to string\n",
    "for i in range(0, len(nucleotide_data)):\n",
    "    nucleotide_data[i] = [char for char in nucleotide_data[i]]"
   ]
  },
  {
   "cell_type": "code",
   "execution_count": 6,
   "id": "0902f145",
   "metadata": {},
   "outputs": [],
   "source": [
    "#import for ML\n",
    "\n",
    "import numpy as np\n",
    "import pandas as pd\n",
    "import matplotlib.pyplot as plt\n",
    "\n",
    "import tensorflow as tf\n",
    "from keras.models import Sequential, Model\n",
    "from keras.layers import Activation, Dense, Input\n",
    "from keras import optimizers\n",
    "from keras import backend as K"
   ]
  },
  {
   "cell_type": "code",
   "execution_count": 7,
   "id": "65d6b7a1",
   "metadata": {},
   "outputs": [],
   "source": [
    "#encoding data with numbers\n",
    "\n",
    "nucleic_acid_encoding = {\n",
    "    'A': 0,\n",
    "    'G': 1,\n",
    "    'C': 2,\n",
    "    'T': 3,\n",
    "    'Y': 4,\n",
    "    'M': 5,\n",
    "    'S': 6,\n",
    "    'K': 7,\n",
    "    'R': 8,\n",
    "    'W': 9,\n",
    "    'N': 10\n",
    "}\n",
    "\n",
    "encoded_nucleotide = []\n",
    "for i in range(0, len(nucleotide_data)):\n",
    "    encoded_nucleotide.append([])\n",
    "    for j in range(0, max_len):\n",
    "        encoded_nucleotide[i].append(nucleic_acid_encoding[nucleotide_data[i][j]])\n",
    "\n",
    "encoded_nucleotide = np.array(encoded_nucleotide)"
   ]
  },
  {
   "cell_type": "code",
   "execution_count": null,
   "id": "f34b342e",
   "metadata": {},
   "outputs": [
    {
     "name": "stdout",
     "output_type": "stream",
     "text": [
      "Epoch 1/500\n"
     ]
    }
   ],
   "source": [
    "# building autoencoder\n",
    "\n",
    "\n",
    "encoding_dim1 = 128\n",
    "encoding_dim2 = 16\n",
    "encoding_dim3 = 3\n",
    "decoding_dim3 = 16\n",
    "decoding_dim2 = 128\n",
    "\n",
    "\n",
    "\n",
    "input_data = Input(shape=encoded_nucleotide.shape[1])\n",
    "encoded1 = Dense(encoding_dim1, activation='relu')(input_data)\n",
    "encoded2 = Dense(encoding_dim2, activation='relu')(encoded1)\n",
    "encoded3 = Dense(encoding_dim3, activation='relu', name='encode_layer')(encoded2)\n",
    "decoded3 = Dense(decoding_dim3, activation='relu')(encoded3)\n",
    "decoded2 = Dense(decoding_dim2, activation='relu')(decoded3)\n",
    "decoded1 = Dense(encoded_nucleotide.shape[1], activation='relu')(decoded2)\n",
    "\n",
    "autoencoder = Model(input_data, decoded1)\n",
    "autoencoder.compile(optimizer='adam', loss=tf.keras.losses.MeanSquaredLogarithmicError())\n",
    "\n",
    "hist_auto = autoencoder.fit(encoded_nucleotide, encoded_nucleotide, epochs=500,\n",
    "                           batch_size=32, shuffle=True,\n",
    "                           validation_split=0.2)"
   ]
  },
  {
   "cell_type": "code",
   "execution_count": null,
   "id": "fa865339",
   "metadata": {},
   "outputs": [],
   "source": [
    "# plot training history\n",
    "\n",
    "plt.figure()\n",
    "plt.plot(hist_auto.history['loss'])\n",
    "plt.plot(hist_auto.history['val_loss'])\n",
    "plt.title('Autoencoder model loss')\n",
    "plt.ylabel('loss')\n",
    "plt.xlabel('epoch')\n",
    "plt.legend(['train', 'val'], loc='upper right')\n",
    "plt.show()"
   ]
  },
  {
   "cell_type": "code",
   "execution_count": null,
   "id": "18e2366e",
   "metadata": {},
   "outputs": [],
   "source": [
    "autoencoder.summary() # autoencoder architecture"
   ]
  },
  {
   "cell_type": "code",
   "execution_count": null,
   "id": "acee5965",
   "metadata": {},
   "outputs": [],
   "source": [
    "# build another model that outputs 3 dimensional data\n",
    "\n",
    "encoded_layer = Model(inputs=autoencoder.input,\n",
    "               outputs=autoencoder.get_layer('encode_layer').output)"
   ]
  },
  {
   "cell_type": "code",
   "execution_count": null,
   "id": "ecf849e7",
   "metadata": {},
   "outputs": [],
   "source": [
    "# crearte new dataset with 3 dimensional data\n",
    "\n",
    "encoded_data = []\n",
    "for sequence in encoded_nucleotide:\n",
    "    encoded_data.append(encoded_layer.predict(np.array([sequence,]))[0])\n"
   ]
  },
  {
   "cell_type": "code",
   "execution_count": null,
   "id": "eb80c184",
   "metadata": {},
   "outputs": [],
   "source": [
    "# import for clustering\n",
    "\n",
    "from sklearn.cluster import KMeans\n",
    "from mpl_toolkits.mplot3d import Axes3D"
   ]
  },
  {
   "cell_type": "code",
   "execution_count": null,
   "id": "44a9ca95",
   "metadata": {},
   "outputs": [],
   "source": [
    "# determine the optimal number of clusters using elbow method\n",
    "\n",
    "inertia = []\n",
    "K = range(1,6)\n",
    "for k in K:\n",
    "    km = KMeans(init='k-means++', n_clusters=k, n_init=10)\n",
    "    km.fit(encoded_data)\n",
    "    inertia.append(km.inertia_)\n",
    "\n",
    "plt.plot(K, inertia, 'bx-')\n",
    "plt.xlabel('Number of Clusters K')\n",
    "plt.ylabel('Inertia')\n",
    "plt.title('Elbow Method For Optimal K')\n",
    "plt.show()"
   ]
  },
  {
   "cell_type": "code",
   "execution_count": null,
   "id": "f0187988",
   "metadata": {},
   "outputs": [],
   "source": [
    "# create a dataset for visualizing clusters\n",
    "\n",
    "kmeans = KMeans(init='k-means++', n_clusters=3, n_init=10)\n",
    "kmeans.fit(encoded_data)\n",
    "P = kmeans.predict(encoded_data)"
   ]
  },
  {
   "cell_type": "code",
   "execution_count": null,
   "id": "1ebbd790",
   "metadata": {},
   "outputs": [],
   "source": [
    "# plot 3D graph of clusters\n",
    "\n",
    "%matplotlib\n",
    "encoded_fig = plt.figure()\n",
    "ax = Axes3D(encoded_fig)\n",
    "p = ax.scatter([row[0] for row in encoded_data], \n",
    "               [row[1] for row in encoded_data], \n",
    "               [row[2] for row in encoded_data], \n",
    "               c=P, marker=\"o\", picker=True, cmap=\"rainbow\")\n",
    "plt.colorbar(p, shrink=0.5)\n",
    "\n",
    "for angle in range(0, 360):\n",
    "    ax.view_init(30, angle)\n",
    "    plt.draw()\n",
    "    plt.pause(.001)"
   ]
  },
  {
   "cell_type": "code",
   "execution_count": null,
   "id": "9bb9719a",
   "metadata": {},
   "outputs": [],
   "source": []
  },
  {
   "cell_type": "code",
   "execution_count": null,
   "id": "e244746f",
   "metadata": {},
   "outputs": [],
   "source": []
  }
 ],
 "metadata": {
  "kernelspec": {
   "display_name": "Python 3",
   "language": "python",
   "name": "python3"
  },
  "language_info": {
   "codemirror_mode": {
    "name": "ipython",
    "version": 3
   },
   "file_extension": ".py",
   "mimetype": "text/x-python",
   "name": "python",
   "nbconvert_exporter": "python",
   "pygments_lexer": "ipython3",
   "version": "3.8.8"
  }
 },
 "nbformat": 4,
 "nbformat_minor": 5
}
